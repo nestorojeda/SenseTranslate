{
 "cells": [
  {
   "cell_type": "markdown",
   "metadata": {},
   "source": [
    "# Ejercicio de Feedback 1\n",
    "\n",
    "**Objetivo**: Implementar un programa que lea un texto, realice un resumen, determine el sentimiento\n",
    "general y traduzca el texto al inglés."
   ]
  },
  {
   "cell_type": "markdown",
   "metadata": {},
   "source": [
    "\n",
    "\n",
    "Este notebook combina tres técnicas de procesamiento de lenguaje natural (NLP) para analizar documentos de texto:\n",
    "\n",
    "1. **Resumen automático**: Condensación del texto a sus puntos principales\n",
    "2. **Análisis de sentimiento**: Determinación de la carga emocional del texto\n",
    "3. **Traducción**: Conversión del texto de español a inglés\n",
    "\n",
    "Utilizamos modelos pre-entrenados de la biblioteca Transformers de Hugging Face para realizar estas tareas."
   ]
  },
  {
   "cell_type": "markdown",
   "metadata": {},
   "source": [
    "## Configuración de los Modelos\n",
    "\n",
    "Cargamos los tres modelos que utilizaremos en este análisis:\n",
    "- **mT5_multilingual_XLSum**: Modelo multilingüe para resumir textos\n",
    "- **distilbert-base-multilingual-cased-sentiments-student**: Clasificador de sentimientos multilingüe\n",
    "- **opus-mt-es-en**: Traductor de español a inglés"
   ]
  },
  {
   "cell_type": "code",
   "execution_count": 12,
   "metadata": {},
   "outputs": [
    {
     "name": "stderr",
     "output_type": "stream",
     "text": [
      "/Users/nojeda/repo/uax/semestre_2/no_estructurados_feedback_1/.venv/lib/python3.12/site-packages/transformers/convert_slow_tokenizer.py:559: UserWarning: The sentencepiece tokenizer that you are converting to a fast tokenizer uses the byte fallback option which is not implemented in the fast tokenizers. In practice this means that the fast version of the tokenizer can produce unknown tokens whereas the sentencepiece version would have converted these unknown tokens into a sequence of byte tokens matching the original piece of text.\n",
      "  warnings.warn(\n",
      "Device set to use mps:0\n",
      "Device set to use mps:0\n",
      "Device set to use mps:0\n"
     ]
    }
   ],
   "source": [
    "from transformers import pipeline\n",
    "summarizer = pipeline(\"summarization\", model=\"csebuetnlp/mT5_multilingual_XLSum\")\n",
    "sentiment_classifier = pipeline(\"text-classification\", model=\"lxyuan/distilbert-base-multilingual-cased-sentiments-student\")\n",
    "translator = pipeline(\"translation\", model=\"Helsinki-NLP/opus-mt-es-en\") "
   ]
  },
  {
   "cell_type": "markdown",
   "metadata": {},
   "source": [
    "Cargamos un texto de ejemplo para realizar el análisis. Este generado usando GPT-4o para usarlo como ejemplo."
   ]
  },
  {
   "cell_type": "code",
   "execution_count": 13,
   "metadata": {},
   "outputs": [
    {
     "name": "stdout",
     "output_type": "stream",
     "text": [
      "La teoría de la relatividad especial propuesta por Albert Einstein en 1905 revolucionó la física al demostrar que el espacio y el tiempo son relativos, dependiendo del estado de movimiento del observador. Introdujo dos postulados fundamentales: la constancia de la velocidad de la luz en el vacío y la equivalencia física de todos los sistemas inerciales. Esto implica fenómenos como la dilatación temporal y la contracción de la longitud, verificadas experimentalmente mediante relojes atómicos y aceleradores de partículas. La famosa ecuación E=mc² surge de esta teoría, mostrando la equivalencia entre masa y energía y explicando procesos nucleares y cósmicos.\n"
     ]
    }
   ],
   "source": [
    "text = open('.././docs/relatividad.txt', 'r').read()\n",
    "print(text)"
   ]
  },
  {
   "cell_type": "markdown",
   "metadata": {},
   "source": [
    "Resumen:"
   ]
  },
  {
   "cell_type": "code",
   "execution_count": 14,
   "metadata": {},
   "outputs": [
    {
     "name": "stdout",
     "output_type": "stream",
     "text": [
      "Summary:\n",
      "La teoría de la relatividad especial propuesta por Albert Einstein en 1905 revolucionó la física al demostrar que el espacio y el tiempo son relativos.\n"
     ]
    }
   ],
   "source": [
    "# Summarization\n",
    "summary = summarizer(text, max_length=130, min_length=30, do_sample=False)\n",
    "print(\"Summary:\")\n",
    "print(summary[0]['summary_text'])"
   ]
  },
  {
   "cell_type": "markdown",
   "metadata": {},
   "source": [
    "Análisis de sentimiento:"
   ]
  },
  {
   "cell_type": "code",
   "execution_count": 15,
   "metadata": {},
   "outputs": [
    {
     "name": "stdout",
     "output_type": "stream",
     "text": [
      "Sentiment:\n",
      "positive 0.6925614476203918\n"
     ]
    }
   ],
   "source": [
    "sentiment = sentiment_classifier(text)\n",
    "print(\"Sentiment:\")\n",
    "print(sentiment[0]['label'], sentiment[0]['score'])"
   ]
  },
  {
   "cell_type": "markdown",
   "metadata": {},
   "source": [
    "Traducción:"
   ]
  },
  {
   "cell_type": "code",
   "execution_count": 16,
   "metadata": {},
   "outputs": [
    {
     "name": "stdout",
     "output_type": "stream",
     "text": [
      "Translation:\n",
      "The theory of special relativity proposed by Albert Einstein in 1905 revolutionized physics by demonstrating that space and time are relative, depending on the observer's state of motion. He introduced two fundamental postulates: the constancy of the speed of light in the void and the physical equivalence of all inertial systems. This implies phenomena such as temporal dilation and the contraction of length, experimentally verified by atomic clocks and particle accelerators. The famous equation E=mc2 arises from this theory, showing the equivalence between mass and energy and explaining nuclear and cosmic processes.\n"
     ]
    }
   ],
   "source": [
    "translation = translator(text)\n",
    "print(\"Translation:\")\n",
    "print(translation[0]['translation_text']) "
   ]
  }
 ],
 "metadata": {
  "kernelspec": {
   "display_name": ".venv",
   "language": "python",
   "name": "python3"
  },
  "language_info": {
   "codemirror_mode": {
    "name": "ipython",
    "version": 3
   },
   "file_extension": ".py",
   "mimetype": "text/x-python",
   "name": "python",
   "nbconvert_exporter": "python",
   "pygments_lexer": "ipython3",
   "version": "3.12.9"
  }
 },
 "nbformat": 4,
 "nbformat_minor": 2
}
