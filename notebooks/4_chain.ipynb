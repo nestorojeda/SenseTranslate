{
 "cells": [
  {
   "cell_type": "code",
   "execution_count": null,
   "metadata": {},
   "outputs": [
    {
     "name": "stderr",
     "output_type": "stream",
     "text": [
      "Some weights of PegasusForConditionalGeneration were not initialized from the model checkpoint at google/pegasus-xsum and are newly initialized: ['model.decoder.embed_positions.weight', 'model.encoder.embed_positions.weight']\n",
      "You should probably TRAIN this model on a down-stream task to be able to use it for predictions and inference.\n",
      "Device set to use mps:0\n",
      "/Users/nojeda/.local/share/virtualenvs/SenseTranslate-T2TfYk7W/lib/python3.9/site-packages/transformers/models/marian/tokenization_marian.py:175: UserWarning: Recommended: pip install sacremoses.\n",
      "  warnings.warn(\"Recommended: pip install sacremoses.\")\n",
      "Device set to use mps:0\n"
     ]
    }
   ],
   "source": [
    "from langchain_huggingface.llms import HuggingFacePipeline\n",
    "\n",
    "summarizer = HuggingFacePipeline.from_model_id(\n",
    "    model_id=\"google/pegasus-xsum\",\n",
    "    task=\"summarization\",\n",
    "    pipeline_kwargs={\"max_length\":130, \"min_length\":30},\n",
    ")\n",
    "\n",
    "translator = HuggingFacePipeline.from_model_id(\n",
    "    model_id=\"Helsinki-NLP/opus-mt-es-en\",\n",
    "    task=\"translation\",\n",
    "    pipeline_kwargs={\"max_length\":1024},\n",
    ")\n"
   ]
  },
  {
   "cell_type": "code",
   "execution_count": 7,
   "metadata": {},
   "outputs": [
    {
     "name": "stdout",
     "output_type": "stream",
     "text": [
      "The famous E=mc2 Equacin arises from this theora, showing mass and energy equivalence and explaining nuclear and chemical processes.\n"
     ]
    }
   ],
   "source": [
    "from langchain_core.prompts import PromptTemplate\n",
    "text = open('.././docs/relatividad.txt', 'r').read()\n",
    "template = \"\"\"Text: {text}\"\"\"\n",
    "prompt = PromptTemplate.from_template(template)\n",
    "chain = prompt | summarizer | translator\n",
    "print(chain.invoke({'text':text}))"
   ]
  }
 ],
 "metadata": {
  "kernelspec": {
   "display_name": "SenseTranslate-T2TfYk7W",
   "language": "python",
   "name": "python3"
  },
  "language_info": {
   "codemirror_mode": {
    "name": "ipython",
    "version": 3
   },
   "file_extension": ".py",
   "mimetype": "text/x-python",
   "name": "python",
   "nbconvert_exporter": "python",
   "pygments_lexer": "ipython3",
   "version": "3.9.6"
  }
 },
 "nbformat": 4,
 "nbformat_minor": 2
}
