{
 "cells": [
  {
   "cell_type": "markdown",
   "metadata": {},
   "source": [
    "Here we are creating a simple chain with the summarization and translation models.\n",
    "Note: we can't add the text classification model to the chain because it's not compatible."
   ]
  },
  {
   "cell_type": "code",
   "execution_count": 3,
   "metadata": {},
   "outputs": [
    {
     "name": "stderr",
     "output_type": "stream",
     "text": [
      "Device set to use mps:0\n",
      "Device set to use mps:0\n"
     ]
    }
   ],
   "source": [
    "from langchain_huggingface.llms import HuggingFacePipeline\n",
    "\n",
    "summarizer = HuggingFacePipeline.from_model_id(\n",
    "    model_id=\"eslamxm/mt5-base-finetuned-Spanish\",\n",
    "    task=\"summarization\",\n",
    "    pipeline_kwargs={\"max_length\":130, \"min_length\":30},\n",
    ")\n",
    "\n",
    "translator = HuggingFacePipeline.from_model_id(\n",
    "    model_id=\"Helsinki-NLP/opus-mt-es-en\",\n",
    "    task=\"translation\",\n",
    "    pipeline_kwargs={\"max_length\":1024},\n",
    ")\n"
   ]
  },
  {
   "cell_type": "markdown",
   "metadata": {},
   "source": [
    "This chain just summarizes and then translates the text"
   ]
  },
  {
   "cell_type": "code",
   "execution_count": 4,
   "metadata": {},
   "outputs": [
    {
     "name": "stdout",
     "output_type": "stream",
     "text": [
      "Understands the theory of special relativity Develops the equation E=mc2 to find the equivalence between mass and energy\n"
     ]
    }
   ],
   "source": [
    "from langchain_core.prompts import PromptTemplate\n",
    "text = open('.././docs/relatividad.txt', 'r').read()\n",
    "template = \"\"\"Text: {text}\"\"\"\n",
    "prompt = PromptTemplate.from_template(template)\n",
    "chain = prompt | summarizer | translator\n",
    "print(chain.invoke({'text':text}))"
   ]
  }
 ],
 "metadata": {
  "kernelspec": {
   "display_name": "SenseTranslate-T2TfYk7W",
   "language": "python",
   "name": "python3"
  },
  "language_info": {
   "codemirror_mode": {
    "name": "ipython",
    "version": 3
   },
   "file_extension": ".py",
   "mimetype": "text/x-python",
   "name": "python",
   "nbconvert_exporter": "python",
   "pygments_lexer": "ipython3",
   "version": "3.9.6"
  }
 },
 "nbformat": 4,
 "nbformat_minor": 2
}
